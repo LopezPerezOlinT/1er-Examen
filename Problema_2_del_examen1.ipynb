{
  "cells": [
    {
      "cell_type": "markdown",
      "id": "c21e5530",
      "metadata": {
        "id": "c21e5530"
      },
      "source": [
        "###Problema2"
      ]
    },
    {
      "cell_type": "markdown",
      "id": "5f658ca1",
      "metadata": {
        "id": "5f658ca1"
      },
      "source": [
        "Un quiosquero vende periódicos a 1.10 euros cada uno. Cada periódico le cuesta al\n",
        "\n",
        "quiosquero 0.90 euros. Las ventas de periódicos del quiosquero a partir de su expe-\n",
        "riencia se refleja en la tabla siguiente.\n",
        "\n",
        "| Periodicos | 30 |40 | 50 | 60 | 70 |\n",
        "|:----------:|:--:|:--:|:--:|:--:|:--:|\n",
        "| f(x)       | 20%| 25%| 25%| 20%| 10%|\n",
        "\n",
        "\n",
        "\n",
        "La tabla recoge por ejemplo que el 20 % del tiempo las ventas han sido de 30 perió-\n",
        "dicos. Teniendo en cuenta el coste de 0,20 euros por venta perdida y el coste de 0,10\n",
        "\n",
        "euros por el reciclaje de cada periódico no vendido, determine el beneficio promedio\n",
        "diario si pide 50 periódicos cada día."
      ]
    },
    {
      "cell_type": "markdown",
      "id": "ccd32164",
      "metadata": {
        "id": "ccd32164"
      },
      "source": [
        "### 1. Identifique las variables \n",
        "\n",
        "Tenemos la variable: $x_1$\n"
      ]
    },
    {
      "cell_type": "markdown",
      "id": "ae8735e5",
      "metadata": {
        "id": "ae8735e5"
      },
      "source": [
        "### 2 y 3. Determine la distribución de probabilidad y modele las variables aleatorias \n",
        "\n",
        "Al principio queria generar una distribución $x_1 \\sim U(0, 1)$, pero me di cuenta, que no es precisamente esa distribución, ya que lo que quiero es si genero 100 números aleatorios en el rango de 0 a 1, aproximadamente el 20% de esos números caerán en el intervalo correspondiente a 30 periódicos vendidos, aproximadamente el 25% caerá en el intervalo correspondiente a 40 periódicos vendidos, y así sucesivamente. Y la distribución uniforme hace que los 10 números se reparten equitativamente en cada uno de los intervalos, entonces es una distribución discreta"
      ]
    },
    {
      "cell_type": "markdown",
      "id": "b1b57a13",
      "metadata": {
        "id": "b1b57a13"
      },
      "source": [
        "### 4. Defina el modelo del sistema y los objetivos de la simulación \n",
        "\n",
        "Beneficios=(Precio unitario de venta*Ventas totales)-(Coste unitario de adquisisión*pedido)-(Coste unitario de reciclaje*Periodicos no vendidos)-(Costo venta perdida*Ventas perdidas), donde\n",
        "\n",
        ">Precio unitario de venta=1.1€\n",
        "\n",
        ">Ventas totales= son las ventas simuladas $x_1$\n",
        "\n",
        ">Coste unitario de adquisisón=0.9€\n",
        "\n",
        ">Pedido= 50 periodicos pedidos\n",
        "\n",
        ">Costo unitario de reciclaje=0.1€\n",
        "\n",
        ">Periodico no vendido=$\\left | Pedido- x_1 \\right |\\geq 0$; si $x_1\\leq50$ \n",
        "\n",
        ">Costo de ventas perdidas=0.2€\n",
        "\n",
        ">Ventas perdidas=$\\left | x_1-Pedido \\right |\\geq 0$; si $50\\leq x_1$\n",
        "\n",
        "Ahora la variable de interés es el número de periódicos vendidos simulados. Se establece una distribución de probabilidad acumulada, denotada como $f(x)$, que enumera los puntos en los que la probabilidad acumulada cambia.\n",
        "\n",
        ">En este caso, la distribución f(x) es la siguiente:\n",
        "$f(x)=({0.2},{0.2+0.25=0.45},{0.45+0.25=0.7},{0.7+0.2=0.9},{0.9+0.10=1})$$f(x) = ({0.2, 0.45, 0.7, 0.9, 1.0})$  \n",
        "\n",
        "Estos valores indican los puntos en los que la probabilidad acumulada cambia. Por ejemplo, entre 0 y 0.2, la probabilidad acumulada es del 20%. Entre 0.2 y 0.45, la probabilidad acumulada es del 45%, y así sucesivamente.\n",
        "\n",
        "A partir de estos valores de f(x), se generan intervalos para asignar el número de periódicos vendidos simulados. Estos intervalos se generan de la siguiente manera:\n",
        "Intervalos generados: \n",
        "\n",
        ">$[0 a 0.2], (0.20 a 0.45], (0.45 a 0.70], (0.70 a 0.90], (0.90 a 1.0]$\n",
        "\n",
        "Luego, se genera un número aleatorio $x_1$, entre 0 y 1. Dependiendo del valor de $x_1$, se asigna un número de periódicos vendidos simulados de acuerdo con los intervalos establecidos. Por ejemplo, si $x_1$ está entre 0 y 0.20, se asigna un valor de 30 periódicos vendidos simulados. Si está entre 0.20 y 0.44, se asigna un valor de 40 periódicos vendidos simulados, y así sucesivamente."
      ]
    },
    {
      "cell_type": "code",
      "execution_count": 127,
      "id": "191b1e9b",
      "metadata": {
        "id": "191b1e9b"
      },
      "outputs": [],
      "source": [
        "import numpy as np\n",
        "import random\n",
        "import matplotlib.pyplot as plt\n",
        "from scipy.stats import norm\n",
        "from collections import Counter"
      ]
    },
    {
      "cell_type": "code",
      "source": [
        "periódicos = [30, 40, 50, 60, 70]  \n",
        "probabilidades = [0.2, 0.25, 0.25, 0.2, 0.1]  "
      ],
      "metadata": {
        "id": "OI2natWDTZ-G"
      },
      "id": "OI2natWDTZ-G",
      "execution_count": 128,
      "outputs": []
    },
    {
      "cell_type": "code",
      "execution_count": 142,
      "id": "e64c27d2",
      "metadata": {
        "id": "e64c27d2",
        "colab": {
          "base_uri": "https://localhost:8080/"
        },
        "outputId": "a1adfae5-7e0f-4697-bb17-cb4920450689"
      },
      "outputs": [
        {
          "output_type": "stream",
          "name": "stdout",
          "text": [
            "Recuento de los números repetidos:\n",
            "27 números cayeron en 40 periódicos\n",
            "24 números cayeron en 50 periódicos\n",
            "23 números cayeron en 30 periódicos\n",
            "8 números cayeron en 70 periódicos\n",
            "18 números cayeron en 60 periódicos\n",
            "\n",
            "Porcentaje de números repetidos: 100.0%\n"
          ]
        }
      ],
      "source": [
        "def generar_distribución_discreta(n):\n",
        "    resultados = []\n",
        "    for _ in range(n):\n",
        "        x = random.random()\n",
        "        acumulado = 0\n",
        "        for i in range(len(probabilidades)):\n",
        "            acumulado += probabilidades[i]\n",
        "            if x <= acumulado:\n",
        "                resultados.append(periódicos[i])\n",
        "                break\n",
        "    return resultados\n",
        "\n",
        "numeros_aleatorios = generar_distribución_discreta(100)\n",
        "recuento = Counter(numeros_aleatorios)\n",
        "porcentaje_repetidos = sum(recuento.values()) / len(numeros_aleatorios) * 100\n",
        "\n",
        "print(\"Recuento de los números repetidos:\")\n",
        "for periódico, conteo in recuento.items():\n",
        "    print(f\"{conteo} números cayeron en {periódico} periódicos\")\n",
        "\n",
        "print(f\"\\nPorcentaje de números repetidos: {porcentaje_repetidos}%\")\n",
        "\n"
      ]
    },
    {
      "cell_type": "code",
      "source": [
        "media = np.mean(list(recuento.elements()))\n",
        "desviacion_estandar = np.std(list(recuento.elements()))\n",
        "\n",
        "print(\"Media:\", media)\n",
        "print(\"Desviación estándar:\", desviacion_estandar)\n"
      ],
      "metadata": {
        "colab": {
          "base_uri": "https://localhost:8080/"
        },
        "id": "be8LOE3PIxOD",
        "outputId": "b1edcb49-772e-484b-c2c7-c32b23cceccf"
      },
      "id": "be8LOE3PIxOD",
      "execution_count": 133,
      "outputs": [
        {
          "output_type": "stream",
          "name": "stdout",
          "text": [
            "Media: 47.2\n",
            "Desviación estándar: 12.496399481450647\n"
          ]
        }
      ]
    },
    {
      "cell_type": "markdown",
      "id": "d6186dac",
      "metadata": {
        "id": "d6186dac"
      },
      "source": [
        "### 5. Diseñe el experimento\n",
        "\n",
        "Para calcular la ganancia con la formula descrita en el paso 4, y tener el promedio de haber comprado 50 periodicos en 100 diás y usando los valores aleatorios del codigo anterior teniendo en cuenta que buelve a generarse los números, pero el codigo si respeta la distribución, (20%,25%,25%,20%,10) en el paso 4 se tiene."
      ]
    },
    {
      "cell_type": "code",
      "source": [
        "def calcular_ganancia_promedio(pedido, dias_simulacion):\n",
        "    # Definir los parámetros y costos\n",
        "    precio_venta = 1.1\n",
        "    costo_adquisicion = 0.9\n",
        "    costo_reciclaje = 0.1\n",
        "    costo_perdida = 0.2\n",
        "\n",
        "    ganancias_diarias = []\n",
        "\n",
        "    for _ in range(dias_simulacion):\n",
        "        # Generar un número aleatorio para simular las ventas\n",
        "        num_ventas = random.uniform(0, 1)\n",
        "    \n",
        "        # Asignar la cantidad de periódicos vendidos según la distribución\n",
        "        if num_ventas <= 0.2:\n",
        "            ventas = 30\n",
        "        elif num_ventas <= 0.45:\n",
        "            ventas = 40\n",
        "        elif num_ventas <= 0.7:\n",
        "            ventas = 50\n",
        "        elif num_ventas <= 0.9:\n",
        "            ventas = 60\n",
        "        else:\n",
        "            ventas = 70\n",
        "    \n",
        "        # Calcular las pérdidas no realizadas si hay menos ventas que el pedido\n",
        "        perdidas_no_realizadas = abs(pedido - ventas) if ventas < pedido else 0\n",
        "    \n",
        "        # Calcular la ganancia diaria\n",
        "        ganancia = (precio_venta * ventas) - (costo_adquisicion * pedido) - (costo_reciclaje * perdidas_no_realizadas) - (costo_perdida * perdidas_no_realizadas)\n",
        "        ganancias_diarias.append(ganancia)\n",
        "    \n",
        "    # Calcular la ganancia promedio diaria\n",
        "    ganancia_promedio = sum(ganancias_diarias) / dias_simulacion\n",
        "    return ganancia_promedio\n"
      ],
      "metadata": {
        "id": "u-p9WGqUUG8q"
      },
      "id": "u-p9WGqUUG8q",
      "execution_count": 138,
      "outputs": []
    },
    {
      "cell_type": "code",
      "source": [
        "pedido = 50\n",
        "dias_simulacion = 100"
      ],
      "metadata": {
        "id": "LxQkA2T2LlYx"
      },
      "id": "LxQkA2T2LlYx",
      "execution_count": 137,
      "outputs": []
    },
    {
      "cell_type": "markdown",
      "id": "34727279",
      "metadata": {
        "id": "34727279"
      },
      "source": [
        "### 6. Repita el experimento $n$ veces \n",
        "\n",
        "Una forma de hacerlo es mediante el siguiente codigo."
      ]
    },
    {
      "cell_type": "code",
      "source": [
        "def generar_distribución_discreta(n):\n",
        "    resultados = np.random.choice(periódicos, n, p=probabilidades)\n",
        "    return resultados\n",
        "\n",
        "numeros_aleatorios = generar_distribución_discreta(100)\n",
        "recuento = Counter(numeros_aleatorios)\n",
        "\n",
        "print(\"Recuento de los números repetidos:\")\n",
        "for periódico, conteo in recuento.items():\n",
        "    print(f\"{conteo} números cayeron en {periódico} periódicos\")\n",
        "\n",
        "porcentaje_repetidos = sum(recuento.values()) / len(numeros_aleatorios) * 100\n",
        "print(f\"\\nPorcentaje de números repetidos: {porcentaje_repetidos}%\")\n",
        "\n",
        "ganancias_promedio = []\n",
        "\n",
        "for _ in range(1000):\n",
        "    ganancia_promedio = calcular_ganancia_promedio(pedido, dias_simulacion)\n",
        "    ganancias_promedio.append(ganancia_promedio)\n",
        "\n",
        "plt.figure(figsize=(10, 6))\n",
        "plt.plot(ganancias_promedio, color='purple')\n",
        "plt.xlabel('Días')\n",
        "plt.ylabel('Ganancia Promedio Diaria')\n",
        "plt.title('Variación de la Ganancia Promedio Diaria')\n",
        "\n",
        "media = np.mean(ganancias_promedio)\n",
        "desviacion_estandar = np.std(ganancias_promedio)\n",
        "\n",
        "plt.text(0.5, -0.15, f'Media: {media:.2f}', transform=plt.gca().transAxes, ha='center', fontsize=12)\n",
        "plt.text(0.5, -0.2, f'Desviación Estándar: {desviacion_estandar:.2f}', transform=plt.gca().transAxes, ha='center', fontsize=12)\n",
        "\n",
        "plt.show()"
      ],
      "metadata": {
        "colab": {
          "base_uri": "https://localhost:8080/",
          "height": 756
        },
        "id": "fpC3Ac50VEXr",
        "outputId": "0564ec1a-32ae-4428-9f82-f9b5fec4510d"
      },
      "id": "fpC3Ac50VEXr",
      "execution_count": 139,
      "outputs": [
        {
          "output_type": "stream",
          "name": "stdout",
          "text": [
            "Recuento de los números repetidos:\n",
            "25 números cayeron en 50 periódicos\n",
            "18 números cayeron en 60 periódicos\n",
            "30 números cayeron en 40 periódicos\n",
            "13 números cayeron en 30 periódicos\n",
            "14 números cayeron en 70 periódicos\n",
            "\n",
            "Porcentaje de números repetidos: 100.0%\n"
          ]
        },
        {
          "output_type": "display_data",
          "data": {
            "text/plain": [
              "<Figure size 1000x600 with 1 Axes>"
            ],
            "image/png": "[encoded data removed]"
          },
          "metadata": {}
        }
      ]
    },
    {
      "cell_type": "markdown",
      "id": "e5dc2362",
      "metadata": {
        "id": "e5dc2362"
      },
      "source": [
        "### Paso 7. Hallamos el intervalo de confianza.\n",
        "\n",
        "$$\\bar{x}-z_{\\alpha/2} \\cdot \\frac{s}{\\sqrt{n}} < \\mu < \\bar{x}+z_{\\alpha/2}\\cdot \\frac{s}{\\sqrt{n}}$$"
      ]
    },
    {
      "cell_type": "code",
      "execution_count": 145,
      "id": "23d0b48e",
      "metadata": {
        "id": "23d0b48e"
      },
      "outputs": [],
      "source": [
        "media = np.mean(ganancias_promedio)\n",
        "desviacion_estandar = np.std(ganancias_promedio)"
      ]
    },
    {
      "cell_type": "code",
      "execution_count": 146,
      "id": "b29c74e6",
      "metadata": {
        "id": "b29c74e6",
        "outputId": "75b016e0-8ecb-4456-9467-788aea6f741c",
        "colab": {
          "base_uri": "https://localhost:8080/"
        }
      },
      "outputs": [
        {
          "output_type": "stream",
          "name": "stdout",
          "text": [
            "Intervalo de confianza (95%): [5.17, 5.37]\n"
          ]
        }
      ],
      "source": [
        "# Calcular la media y desviación estándar\n",
        "media = np.mean(ganancias_promedio)\n",
        "desviacion_estandar = np.std(ganancias_promedio)\n",
        "\n",
        "# Calcular el intervalo de confianza del 95%\n",
        "n = len(ganancias_promedio)\n",
        "intervalo_inferior = media - 1.96 * desviacion_estandar / np.sqrt(n)\n",
        "intervalo_superior = media + 1.96 * desviacion_estandar / np.sqrt(n)\n",
        "\n",
        "# Imprimir el intervalo de confianza\n",
        "print(f\"Intervalo de confianza (95%): [{intervalo_inferior:.2f}, {intervalo_superior:.2f}]\")\n"
      ]
    },
    {
      "cell_type": "markdown",
      "id": "112c0954",
      "metadata": {
        "id": "112c0954"
      },
      "source": [
        "### Para determinar el número de simulaciones"
      ]
    },
    {
      "cell_type": "markdown",
      "id": "0a1a63e7",
      "metadata": {
        "id": "0a1a63e7"
      },
      "source": [
        "$$ N > \\Bigg( \\frac{2 \\sigma z_{\\alpha/2}}{\\epsilon} \\Bigg) ^2 $$"
      ]
    },
    {
      "cell_type": "code",
      "execution_count": 147,
      "id": "1478d745",
      "metadata": {
        "id": "1478d745",
        "colab": {
          "base_uri": "https://localhost:8080/"
        },
        "outputId": "15d163a5-51e6-4f99-a487-b7e8a4963511"
      },
      "outputs": [
        {
          "output_type": "stream",
          "name": "stdout",
          "text": [
            "Número de iteraciones requeridas: 16104\n"
          ]
        }
      ],
      "source": [
        "# Definir los parámetros\n",
        "sigma = np.std(ganancias_promedio)  # Desviación estándar\n",
        "z_alpha_over_2 = 1.96  # Valor crítico para un nivel de confianza del 95%\n",
        "epsilon = 0.05  # Precisión deseada\n",
        "\n",
        "# Calcular el número de iteraciones requeridas\n",
        "N = np.ceil((2 * sigma * z_alpha_over_2 / epsilon) ** 2)\n",
        "\n",
        "# Imprimir el número de iteraciones requeridas\n",
        "print(f\"Número de iteraciones requeridas: {int(N)}\")"
      ]
    },
    {
      "cell_type": "markdown",
      "id": "a6d1c695",
      "metadata": {
        "id": "a6d1c695"
      },
      "source": [
        "### Podemos comparar con la sulución analítica del problema.\n",
        "\n",
        "Vamos a ver si nos acercamos a la solución analótica."
      ]
    },
    {
      "cell_type": "markdown",
      "source": [
        "Basandonos en los datos del problema, donde se espera que el quiosquero compra 50 periodicos por día, tenemos:"
      ],
      "metadata": {
        "id": "mDVN6MtFWiJ4"
      },
      "id": "mDVN6MtFWiJ4"
    },
    {
      "cell_type": "code",
      "execution_count": null,
      "id": "7284bee0",
      "metadata": {
        "id": "7284bee0",
        "outputId": "4a4df5ce-5eb1-4d21-8f07-d9ce67604dd9"
      },
      "outputs": [
        {
          "data": {
            "text/plain": [
              "0.3445782583896758"
            ]
          },
          "execution_count": 108,
          "metadata": {},
          "output_type": "execute_result"
        }
      ],
      "source": [
        "norm.cdf(-0.04, -0.02, 0.05)"
      ]
    },
    {
      "cell_type": "code",
      "execution_count": null,
      "id": "a1a842a2",
      "metadata": {
        "id": "a1a842a2",
        "outputId": "0d7b0755-39b3-4872-89e9-de9c50fa5940"
      },
      "outputs": [
        {
          "data": {
            "text/plain": [
              "0.0013020883830878738"
            ]
          },
          "execution_count": 163,
          "metadata": {},
          "output_type": "execute_result"
        }
      ],
      "source": [
        "norm.cdf(-0.04, -0.02, 0.05)-np.mean(Y)"
      ]
    },
    {
      "cell_type": "markdown",
      "source": [
        "###Solución analítica\n",
        "Para calcular el beneficio promedio diario necesario, necesitamos considerar los ingresos y los costos asociados a cada nivel de venta de periodicos, es decir:\n",
        "\n",
        "Beneficios=(Precio unitario de venta*Ventas totales)-(Coste unitario de adquisisión*pedido)-(Coste unitario de reciclaje*Periodicos no vendidos)-(Costo venta perdida*Ventas perdidas), donde\n",
        "\n",
        ">Precio unitario de venta=1.1€\n",
        "\n",
        ">VentasTotales= son el numero de ventas\n",
        "\n",
        ">Coste unitario de adquisisón=0.9€\n",
        "\n",
        ">Pedido= 50 periodicos pedidos\n",
        "\n",
        ">Costo unitario de reciclaje=0.1€\n",
        "\n",
        ">Periodico no vendido=$\\left | Pedido- VentasTotales \\right |\\geq 0$; si $VentasTotales\\leq50$ \n",
        "\n",
        ">Costo de ventas perdidas=0.2€\n",
        "\n",
        ">Ventas perdidas=$\\left | x_1-Pedido \\right |\\geq 0$; si $50\\leq Ventas Totales$, aqui en este caso son ventas no realizadas, por ejemplo si se acabaron los 50 periodicos, y llega otro cliente y decide comprar un periodico, pero ya no hay periodicos para vender, entonces hay una perdida para el quiosquero\n",
        "\n"
      ],
      "metadata": {
        "id": "0WmXrSDUrCd-"
      },
      "id": "0WmXrSDUrCd-"
    },
    {
      "cell_type": "markdown",
      "source": [
        "Bueno voy a intentarlo por diagrama de arbol"
      ],
      "metadata": {
        "id": "grqD37sBZ-Tr"
      },
      "id": "grqD37sBZ-Tr"
    },
    {
      "cell_type": "markdown",
      "source": [
        "                  30 (0.20)\n",
        "               /        \\\n",
        "            /             \\\n",
        "           /               \\\n",
        "       -18                  40 (0.25)\n",
        "                           /      \\\n",
        "                        /           \\\n",
        "                     /                \\\n",
        "                  -4                  50 (0.25)\n",
        "                                       /     \\\n",
        "                                    /           \\\n",
        "                                 /                \\\n",
        "                              10                  60 (0.20)\n",
        "                                                 /     \\\n",
        "                                              /           \\\n",
        "                                           /                \\\n",
        "                                        21                  70 (0.10)\n"
      ],
      "metadata": {
        "id": "TmcsTkPEaFF1"
      },
      "id": "TmcsTkPEaFF1"
    },
    {
      "cell_type": "markdown",
      "source": [
        "En el diagrama de arbol de probabilidad, cada nodo representa una cantidad de periódicos vendidos y la probabilidad asociada a esa cantidad. Por ejemplo, el nodo \"30\" representa la venta de 30 periódicos con una probabilidad del 20%. Los nodos se ramifican en función de las probabilidades correspondientes.\n",
        "\n",
        "Ahora, para calcular el beneficio promedio diario, se deben calcular los beneficios para cada escenario y luego ponderarlos por las probabilidades correspondientes. Aquí tienes los cálculos:"
      ],
      "metadata": {
        "id": "k3qQzFxyaTWG"
      },
      "id": "k3qQzFxyaTWG"
    },
    {
      "cell_type": "markdown",
      "source": [
        "Beneficio(30) = (1.10 * 30) - (0.90 * 50) - (0.10 * 20) - (0.20 * 20) = 33 - 45 - 2 - 4 = -18\n",
        "\n",
        "\n",
        "Beneficio(40) = (1.10 * 40) - (0.90 * 50) - (0.10 * 10) - (0.20 * 10) = 44 - 45 - 1 - 2 = -4\n",
        "\n",
        "\n",
        "Beneficio(50) = (1.10 * 50) - (0.90 * 50) - (0.10 * 0) - (0.20 * 0) = 55 - 45 - 0 - 0 = 10\n",
        "\n",
        "\n",
        "Beneficio(60) = (1.10 * 60) - (0.90 * 50) - (0.10 * 0) - (0.20 * 0) = 66 - 45 - 0 - 0 = 21\n",
        "\n",
        "\n",
        "Beneficio(70) = (1.10 * 70) - (0.90 * 50) - (0.10 * 20) - (0.20 * 20) = 77 - 45 - 2 - 4 = 26\n"
      ],
      "metadata": {
        "id": "Fneg-i_eaZLv"
      },
      "id": "Fneg-i_eaZLv"
    },
    {
      "cell_type": "markdown",
      "source": [
        "Luego, para calcular la ganancia promedio diaria, considerando las probabilidades dadas, se realiza la siguiente suma ponderada:\n",
        "\n",
        "Ganancia Promedio Diaria = (Beneficio(30) * 0.20) + (Beneficio(40) * 0.25) + (Beneficio(50) * 0.25) + (Beneficio(60) * 0.20) + (Beneficio(70) * 0.10)\n",
        "\n",
        "Sustituimos:\n",
        "\n",
        "Ganancia Promedio Diaria = (-18 * 0.20) + (-4 * 0.25) + (10 * 0.25) + (21 * 0.20) + (26 * 0.10) = -3.6 - 1 + 2.5 + 4.2 + 2.6 = 5.7€\n",
        "\n",
        "Por lo tanto, el resultado correcto de la ganancia promedio diaria es de 5.7€."
      ],
      "metadata": {
        "id": "kYVRgFJ-i6ll"
      },
      "id": "kYVRgFJ-i6ll"
    },
    {
      "cell_type": "markdown",
      "source": [
        "Conclución: Bueno estoy satisfecho con la simulación y con el método analítico, son muy pareceidos en respuesta, así que así lo dejo. "
      ],
      "metadata": {
        "id": "uEThSD7sntLx"
      },
      "id": "uEThSD7sntLx"
    }
  ],
  "metadata": {
    "kernelspec": {
      "display_name": "Python 3 (ipykernel)",
      "language": "python",
      "name": "python3"
    },
    "language_info": {
      "codemirror_mode": {
        "name": "ipython",
        "version": 3
      },
      "file_extension": ".py",
      "mimetype": "text/x-python",
      "name": "python",
      "nbconvert_exporter": "python",
      "pygments_lexer": "ipython3",
      "version": "3.7.3"
    },
    "colab": {
      "provenance": []
    }
  },
  "nbformat": 4,
  "nbformat_minor": 5
}