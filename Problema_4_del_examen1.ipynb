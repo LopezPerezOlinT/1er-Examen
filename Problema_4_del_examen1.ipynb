{
  "cells": [
    {
      "cell_type": "markdown",
      "id": "c21e5530",
      "metadata": {
        "id": "c21e5530"
      },
      "source": [
        "# Problema 4"
      ]
    },
    {
      "cell_type": "markdown",
      "id": "5f658ca1",
      "metadata": {
        "id": "5f658ca1"
      },
      "source": [
        "Sean cuatro variables aleatorias independientes $\\varepsilon:i$, todas con distribución dePoisson con media igual 1/2. Determínese P(τ ≤ 1) siendo \n",
        "\n",
        ">$T=\\frac{\\varepsilon _1+\\varepsilon _2+\\varepsilon _3+\\varepsilon _4}{4}$"
      ]
    },
    {
      "cell_type": "markdown",
      "id": "fac00420",
      "metadata": {
        "id": "fac00420"
      },
      "source": [
        "Vamos a resolver este problema, procurando seguir la metodología vista en el curso."
      ]
    },
    {
      "cell_type": "markdown",
      "id": "ccd32164",
      "metadata": {
        "id": "ccd32164"
      },
      "source": [
        "### 1. Identifique las variables \n",
        "\n",
        "Tenemos cuatro $\\varepsilon_1$, $\\varepsilon_2$, $\\varepsilon_3$, $\\varepsilon_4$,"
      ]
    },
    {
      "cell_type": "markdown",
      "id": "ae8735e5",
      "metadata": {
        "id": "ae8735e5"
      },
      "source": [
        "### 2 y 3. Determine la distribución de probabilidad y modele las variables aleatorias \n",
        "\n",
        "En el planteamiento ya se especifica que $\\varepsilon_i\\sim Poi(\\frac{1}{2})$ para $i=1,2,3,4$."
      ]
    },
    {
      "cell_type": "markdown",
      "id": "b1b57a13",
      "metadata": {
        "id": "b1b57a13"
      },
      "source": [
        "### 4. Defina el modelo del sistema y los objetivos de la simulación \n",
        "\n",
        "Primero vamos a generar 4 variables aleatorias $\\varepsilon_i\\sim Poi(\\frac{1}{2})$ para $i=1,2,3,4$."
      ]
    },
    {
      "cell_type": "code",
      "execution_count": 13,
      "id": "191b1e9b",
      "metadata": {
        "id": "191b1e9b"
      },
      "outputs": [],
      "source": [
        "import random\n",
        "import matplotlib.pyplot as plt\n",
        "from scipy.stats import norm\n",
        "from math import exp\n",
        "import numpy as np"
      ]
    },
    {
      "cell_type": "code",
      "execution_count": 14,
      "id": "e64c27d2",
      "metadata": {
        "id": "e64c27d2"
      },
      "outputs": [],
      "source": [
        "# Definir el parámetro de media\n",
        "media = 1/2\n",
        "\n",
        "# Generar las cuatro variables aleatorias\n",
        "epsilon_1 = np.random.poisson(media)\n",
        "epsilon_2 = np.random.poisson(media)\n",
        "epsilon_3 = np.random.poisson(media)\n",
        "epsilon_4 = np.random.poisson(media)\n",
        "# Calcular la suma y dividir entre 4\n",
        "T = (epsilon_1 + epsilon_2 + epsilon_3 + epsilon_4) / 4"
      ]
    },
    {
      "cell_type": "markdown",
      "id": "d6186dac",
      "metadata": {
        "id": "d6186dac"
      },
      "source": [
        "### 5. Diseñe el experimento\n",
        "\n",
        "ya que se generaron esas 4 variables aleatorias voy a meterlas en una función para que despues pueda llamar a la función"
      ]
    },
    {
      "cell_type": "code",
      "execution_count": 19,
      "id": "f9a766a5",
      "metadata": {
        "id": "f9a766a5"
      },
      "outputs": [],
      "source": [
        "def generar_variables():\n",
        "    epsilon_1 = np.random.poisson(1/2)\n",
        "    epsilon_2 = np.random.poisson(1/2)\n",
        "    epsilon_3 = np.random.poisson(1/2)\n",
        "    epsilon_4 = np.random.poisson(1/2)\n",
        "    T = (epsilon_1 + epsilon_2 + epsilon_3 + epsilon_4) / 4\n",
        "    return T"
      ]
    },
    {
      "cell_type": "code",
      "execution_count": 20,
      "id": "8099a245",
      "metadata": {
        "id": "8099a245"
      },
      "outputs": [],
      "source": [
        "X = prob_inter(500)# Asignamos valores a n y realizamos el experimento"
      ]
    },
    {
      "cell_type": "code",
      "execution_count": 22,
      "id": "c5a5a3c2",
      "metadata": {
        "id": "c5a5a3c2",
        "outputId": "f0c02e30-ef58-44cd-f75f-0cf70817b67d",
        "colab": {
          "base_uri": "https://localhost:8080/",
          "height": 472
        }
      },
      "outputs": [
        {
          "output_type": "display_data",
          "data": {
            "text/plain": [
              "<Figure size 640x480 with 1 Axes>"
            ],
            "image/png": "[encoded data removed]"
          },
          "metadata": {}
        }
      ],
      "source": [
        "# Configurar los títulos de la gráfica y los ejes\n",
        "plt.title(\"Probabilidad estimada de interferencia\")\n",
        "plt.xlabel(\"Número de iteraciones\")\n",
        "plt.ylabel(\"Probabilidad\")\n",
        "\n",
        "# Configurar los colores de la gráfica\n",
        "color = \"red\"  # Puedes cambiar el color a tu preferencia\n",
        "\n",
        "# Graficar los datos\n",
        "plt.plot(X, color=color)\n",
        "\n",
        "# Mostrar la gráfica\n",
        "plt.show()                      # La gráfica muestra que la convergencia está garantizada con 500 iteraciones\n",
        "                                    # Sin embargo, diferentes ejecuciones darán resultados distintos"
      ]
    },
    {
      "cell_type": "code",
      "execution_count": 23,
      "id": "4ac4c689",
      "metadata": {
        "id": "4ac4c689",
        "outputId": "17b90922-9c61-4c0a-f782-f1f29b40d8ac",
        "colab": {
          "base_uri": "https://localhost:8080/"
        }
      },
      "outputs": [
        {
          "output_type": "stream",
          "name": "stdout",
          "text": [
            "0.48390018498487064 0.039914539930038635\n"
          ]
        }
      ],
      "source": [
        "print(np.mean(X), np.std(X))"
      ]
    },
    {
      "cell_type": "markdown",
      "id": "34727279",
      "metadata": {
        "id": "34727279"
      },
      "source": [
        "### 6. Repita el experimento $n$ veces \n",
        "\n",
        "Una forma de hacerlo es mediante el siguiente codigo."
      ]
    },
    {
      "cell_type": "code",
      "execution_count": 24,
      "id": "908f1884",
      "metadata": {
        "id": "908f1884"
      },
      "outputs": [],
      "source": [
        "def modelo(n):\n",
        "    lista = []\n",
        "    for i in range(n):\n",
        "        s = prob_inter(500)\n",
        "        lista.append(np.mean(s))\n",
        "    return lista"
      ]
    },
    {
      "cell_type": "code",
      "execution_count": 27,
      "id": "34868564",
      "metadata": {
        "id": "34868564"
      },
      "outputs": [],
      "source": [
        "Y=modelo(1000)"
      ]
    },
    {
      "cell_type": "code",
      "execution_count": 30,
      "id": "8a95845e",
      "metadata": {
        "id": "8a95845e",
        "outputId": "0cda093a-a98e-400e-b6e5-f4c11b8852de",
        "colab": {
          "base_uri": "https://localhost:8080/",
          "height": 472
        }
      },
      "outputs": [
        {
          "output_type": "display_data",
          "data": {
            "text/plain": [
              "<Figure size 640x480 with 1 Axes>"
            ],
            "image/png": "[encoded data removed]"
          },
          "metadata": {}
        }
      ],
      "source": [
        "import matplotlib.pyplot as plt\n",
        "\n",
        "plt.hist(Y, color='orange', edgecolor='black')  # Establece el color de las barras y el borde\n",
        "plt.title('Histograma de Y')  # Agrega un título al histograma\n",
        "plt.xlabel('Valores de Y')  # Etiqueta del eje x\n",
        "plt.ylabel('Frecuencia')  # Etiqueta del eje y\n",
        "\n",
        "plt.show()  "
      ]
    },
    {
      "cell_type": "code",
      "execution_count": 31,
      "id": "e892a16c",
      "metadata": {
        "id": "e892a16c",
        "outputId": "cd7d3bb3-c4ec-44ac-ed92-0400f173f2c8",
        "colab": {
          "base_uri": "https://localhost:8080/"
        }
      },
      "outputs": [
        {
          "output_type": "stream",
          "name": "stdout",
          "text": [
            "0.5015704623335998 0.021406852286106986\n"
          ]
        }
      ],
      "source": [
        "print(np.mean(Y), np.std(Y))"
      ]
    },
    {
      "cell_type": "markdown",
      "id": "e5dc2362",
      "metadata": {
        "id": "e5dc2362"
      },
      "source": [
        "### Paso 7. Hallamos el intervalo de confianza.\n",
        "\n",
        "$$\\bar{x}-z_{\\alpha/2} \\cdot \\frac{s}{\\sqrt{n}} < \\mu < \\bar{x}+z_{\\alpha/2}\\cdot \\frac{s}{\\sqrt{n}}$$"
      ]
    },
    {
      "cell_type": "code",
      "execution_count": 32,
      "id": "23d0b48e",
      "metadata": {
        "id": "23d0b48e",
        "outputId": "778eee7b-db19-489b-c3b2-3530eb9e3070",
        "colab": {
          "base_uri": "https://localhost:8080/"
        }
      },
      "outputs": [
        {
          "output_type": "execute_result",
          "data": {
            "text/plain": [
              "0.5015704623335998"
            ]
          },
          "metadata": {},
          "execution_count": 32
        }
      ],
      "source": [
        "np.mean(Y)"
      ]
    },
    {
      "cell_type": "code",
      "execution_count": 33,
      "id": "b29c74e6",
      "metadata": {
        "id": "b29c74e6",
        "outputId": "8c45dcac-1605-4a26-cac8-7ddd00983abb",
        "colab": {
          "base_uri": "https://localhost:8080/"
        }
      },
      "outputs": [
        {
          "output_type": "execute_result",
          "data": {
            "text/plain": [
              "(0.49563678561077673, 0.5075041390564229)"
            ]
          },
          "metadata": {},
          "execution_count": 33
        }
      ],
      "source": [
        "np.mean(Y) - 1.96*np.std(Y)/np.sqrt(50), np.mean(Y) + 1.96*np.std(Y)/np.sqrt(50)"
      ]
    },
    {
      "cell_type": "markdown",
      "id": "112c0954",
      "metadata": {
        "id": "112c0954"
      },
      "source": [
        "### Para determinar el número de simulaciones"
      ]
    },
    {
      "cell_type": "markdown",
      "id": "0a1a63e7",
      "metadata": {
        "id": "0a1a63e7"
      },
      "source": [
        "$$ N > \\Bigg( \\frac{2 \\sigma z_{\\alpha/2}}{\\epsilon} \\Bigg) ^2 $$"
      ]
    },
    {
      "cell_type": "code",
      "execution_count": 34,
      "id": "1478d745",
      "metadata": {
        "id": "1478d745"
      },
      "outputs": [],
      "source": [
        "N = (2*np.std(X)*1.96/0.01)**2"
      ]
    },
    {
      "cell_type": "code",
      "execution_count": 35,
      "id": "fa6ae0ce",
      "metadata": {
        "id": "fa6ae0ce",
        "outputId": "35925bc8-77fa-48a5-e3a8-c80d8a7f89dd",
        "colab": {
          "base_uri": "https://localhost:8080/"
        }
      },
      "outputs": [
        {
          "output_type": "stream",
          "name": "stdout",
          "text": [
            "244.81295137803406\n"
          ]
        }
      ],
      "source": [
        "print(N)"
      ]
    },
    {
      "cell_type": "markdown",
      "id": "a6d1c695",
      "metadata": {
        "id": "a6d1c695"
      },
      "source": [
        "### Podemos comparar con la sulución analítica del problema.\n"
      ]
    },
    {
      "cell_type": "markdown",
      "source": [
        "Dado que las variables aleatorias εᵢ son independientes y siguen una distribución de Poisson con media $\\frac{1}{2}$, podemos considerar su suma $T = \\frac{\\varepsilon_1+\\varepsilon_2+\\varepsilon_3+\\varepsilon_4}{4} como una variable aleatoria con distribución de Poisson con media 4 * 1/2 = 2.\n",
        "\n",
        "Queremos determinar $P{t\\leq 1}$, donde $τ$ es la variable aleatoria $T$. Para calcular esta probabilidad, podemos utilizar la función de distribución acumulativa de la distribución de Poisson.\n",
        "\n",
        "La función de distribución acumulativa de una variable aleatoria con distribución de Poisson de media λ se define como:\n",
        "\n",
        "$F(k; \\lambda) = P(X \\leq k)$\n",
        "\n",
        "Donde $X$ es la variable aleatoria y $k$ es un valor dado.\n",
        "\n",
        "En nuestro caso, queremos calcular $P(τ ≤ 1)$, por lo que necesitamos evaluar $F(1, 2)$.\n",
        "\n",
        "La fórmula de la función de distribución acumulativa de la distribución de Poisson es:\n",
        "\n",
        "$F(k, \\lambda) = e^{-\\lambda} * Σ (\\frac{\\lambda ^i}{i!})$\n",
        "\n",
        "Donde la suma se realiza desde $i = 0$ hasta $i = k$.\n",
        "\n",
        "Aplicando esto, tenemos:\n",
        "\n",
        "$F(1, 2) = e^{-2} * (\\frac{2^0}{0!}+\\frac{2^1}{1!})$\n",
        "\n",
        "Simplificando:\n",
        "\n",
        "$F(1, 2) = e^{-2} * (1 + 2)$\n",
        "\n",
        "$F(1, 2) = 3 * e^{-2}$\n",
        "\n",
        "Entonces, $P(τ ≤ 1) = F(1; 2) = 3 * e^(-2)$.\n",
        "\n",
        "Por lo tanto, la probabilidad de que τ sea menor o igual a 1 es igual a 3 * e^(-2)=0.4060058"
      ],
      "metadata": {
        "id": "LsvivpZtfPCZ"
      },
      "id": "LsvivpZtfPCZ"
    },
    {
      "cell_type": "code",
      "source": [
        "from scipy.stats import poisson\n",
        "\n",
        "# Definir el parámetro de la distribución Poisson\n",
        "media = 2\n",
        "\n",
        "# Calcular la función de distribución acumulada (CDF) de la Poisson en τ = 1\n",
        "probabilidad = poisson.cdf(1, media)\n",
        "\n",
        "# Imprimir el resultado\n",
        "print(\"P(τ ≤ 1) =\", probabilidad)\n"
      ],
      "metadata": {
        "colab": {
          "base_uri": "https://localhost:8080/"
        },
        "id": "Eh4SOSZtjb9M",
        "outputId": "b5684bfc-ba3f-4f3a-bba5-0192287315a7"
      },
      "id": "Eh4SOSZtjb9M",
      "execution_count": 3,
      "outputs": [
        {
          "output_type": "stream",
          "name": "stdout",
          "text": [
            "P(τ ≤ 1) = 0.40600584970983794\n"
          ]
        }
      ]
    },
    {
      "cell_type": "markdown",
      "source": [
        "Pues se parece, pero no esta dentro del intervalo de confianza, una disculpa, parece ser que hasta el ultimo problema pude hacerlo como el profesor lo queria, noto que algunos problemas anteriores tienen mucha paja, o no estan en los lugares correcto, en fin, tengo que ir a trabajar, y en la tarde hacer más tarea, esta es la mejor versión de mi examen que pude hacer."
      ],
      "metadata": {
        "id": "A77bv18LvObt"
      },
      "id": "A77bv18LvObt"
    }
  ],
  "metadata": {
    "kernelspec": {
      "display_name": "Python 3 (ipykernel)",
      "language": "python",
      "name": "python3"
    },
    "language_info": {
      "codemirror_mode": {
        "name": "ipython",
        "version": 3
      },
      "file_extension": ".py",
      "mimetype": "text/x-python",
      "name": "python",
      "nbconvert_exporter": "python",
      "pygments_lexer": "ipython3",
      "version": "3.7.3"
    },
    "colab": {
      "provenance": []
    }
  },
  "nbformat": 4,
  "nbformat_minor": 5
}